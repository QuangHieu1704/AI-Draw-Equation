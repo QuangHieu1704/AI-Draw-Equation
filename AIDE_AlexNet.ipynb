{
  "nbformat": 4,
  "nbformat_minor": 0,
  "metadata": {
    "colab": {
      "name": "AIDE_AlexNet.ipynb",
      "provenance": [],
      "collapsed_sections": []
    },
    "kernelspec": {
      "name": "python3",
      "display_name": "Python 3"
    },
    "language_info": {
      "name": "python"
    },
    "accelerator": "GPU",
    "gpuClass": "standard"
  },
  "cells": [
    {
      "cell_type": "code",
      "execution_count": null,
      "metadata": {
        "colab": {
          "base_uri": "https://localhost:8080/"
        },
        "id": "wzGOnUWIlbSb",
        "outputId": "43277d3c-4528-4ce7-9491-da084deb6e27"
      },
      "outputs": [
        {
          "output_type": "stream",
          "name": "stderr",
          "text": [
            "/usr/local/lib/python3.7/dist-packages/ipykernel_launcher.py:3: TqdmExperimentalWarning: Using `tqdm.autonotebook.tqdm` in notebook mode. Use `tqdm.tqdm` instead to force console mode (e.g. in jupyter console)\n",
            "  This is separate from the ipykernel package so we can avoid doing imports until\n"
          ]
        }
      ],
      "source": [
        "import sklearn\n",
        "import os\n",
        "from tqdm.autonotebook import tqdm\n",
        "import numpy as np\n",
        "from PIL import Image\n",
        "import pandas as pd\n",
        "from google.colab.patches import cv2_imshow\n",
        "import cv2\n",
        "import matplotlib.pyplot as plt\n",
        "import tensorflow as tf\n",
        "from tensorflow import keras\n",
        "from tensorflow.keras import layers\n",
        "from keras.models import Sequential, load_model, Model \n",
        "from keras.layers import Conv2D, MaxPool2D, Add, Dense, Reshape, Flatten, Dropout, BatchNormalization, ReLU, Activation, Concatenate, Flatten, Input, Concatenate, Activation, LSTM, Bidirectional, Lambda\n",
        "from keras import Input\n",
        "from tensorflow.keras.layers.experimental.preprocessing import Resizing\n",
        "from keras import backend\n",
        "from sklearn.model_selection import train_test_split\n",
        "from keras.utils import np_utils\n",
        "from tensorflow.keras.utils import to_categorical"
      ]
    },
    {
      "cell_type": "code",
      "source": [
        "from google.colab import drive\n",
        "drive.mount('/content/gdrive')"
      ],
      "metadata": {
        "id": "0uTF-BKjlhYF",
        "colab": {
          "base_uri": "https://localhost:8080/"
        },
        "outputId": "34c2be54-8b56-47f6-8ecd-4d197f627ca0"
      },
      "execution_count": null,
      "outputs": [
        {
          "output_type": "stream",
          "name": "stdout",
          "text": [
            "Drive already mounted at /content/gdrive; to attempt to forcibly remount, call drive.mount(\"/content/gdrive\", force_remount=True).\n"
          ]
        }
      ]
    },
    {
      "cell_type": "code",
      "source": [
        "# check GPU\n",
        "!nvidia-smi"
      ],
      "metadata": {
        "id": "XuNWvKa_ljnI",
        "colab": {
          "base_uri": "https://localhost:8080/"
        },
        "outputId": "91c857ab-dddd-4040-d952-a65342d50b77"
      },
      "execution_count": null,
      "outputs": [
        {
          "output_type": "stream",
          "name": "stdout",
          "text": [
            "Thu Jul 28 15:27:11 2022       \n",
            "+-----------------------------------------------------------------------------+\n",
            "| NVIDIA-SMI 460.32.03    Driver Version: 460.32.03    CUDA Version: 11.2     |\n",
            "|-------------------------------+----------------------+----------------------+\n",
            "| GPU  Name        Persistence-M| Bus-Id        Disp.A | Volatile Uncorr. ECC |\n",
            "| Fan  Temp  Perf  Pwr:Usage/Cap|         Memory-Usage | GPU-Util  Compute M. |\n",
            "|                               |                      |               MIG M. |\n",
            "|===============================+======================+======================|\n",
            "|   0  Tesla T4            Off  | 00000000:00:04.0 Off |                    0 |\n",
            "| N/A   67C    P8    11W /  70W |      0MiB / 15109MiB |      0%      Default |\n",
            "|                               |                      |                  N/A |\n",
            "+-------------------------------+----------------------+----------------------+\n",
            "                                                                               \n",
            "+-----------------------------------------------------------------------------+\n",
            "| Processes:                                                                  |\n",
            "|  GPU   GI   CI        PID   Type   Process name                  GPU Memory |\n",
            "|        ID   ID                                                   Usage      |\n",
            "|=============================================================================|\n",
            "|  No running processes found                                                 |\n",
            "+-----------------------------------------------------------------------------+\n"
          ]
        }
      ]
    },
    {
      "cell_type": "code",
      "source": [
        "!unzip \"/content/gdrive/MyDrive/AI Draw Equation/AIDE dataset.zip\" -d \"/content\""
      ],
      "metadata": {
        "id": "xya4brQ7lnbA",
        "colab": {
          "base_uri": "https://localhost:8080/"
        },
        "outputId": "4e4ab90e-8070-4458-e4af-650cc510bb70"
      },
      "execution_count": null,
      "outputs": [
        {
          "output_type": "stream",
          "name": "stdout",
          "text": [
            "Archive:  /content/gdrive/MyDrive/AI Draw Equation/dataset.zip\n",
            "replace /content/COMPLETED DATASET/(/1.jpg? [y]es, [n]o, [A]ll, [N]one, [r]ename: "
          ]
        }
      ]
    },
    {
      "cell_type": "code",
      "source": [
        "# Load train and val dataset\n",
        "list_categories = [\"0\", \"1\", \"2\", \"3\", \"4\", \"5\", \"6\", \"7\", \"8\", \"9\", \"add\", \"dec\", \"div\", \"mul\", \"stroke\", \"sub\", \"(\", \")\"]\n",
        "train_path = \"/content/AIDE dataset/train\"\n",
        "X_train = []\n",
        "Y_train = []\n",
        "for label_folder in os.listdir(train_path):\n",
        "  curr_path = os.path.join(train_path, label_folder)\n",
        "  lbl = list_categories.index(label_folder)\n",
        "  for img_name in os.listdir(curr_path):\n",
        "    img = cv2.imread(os.path.join(curr_path, img_name), cv2.IMREAD_GRAYSCALE)\n",
        "    img = cv2.resize(img, None, fx = 0.5, fy = 0.5)\n",
        "    X_train.append(img)\n",
        "    Y_train.append(int(lbl))\n",
        "X_train = np.array(X_train) / 255.0\n",
        "Y_train = np.array(Y_train)\n",
        "\n",
        "val_path = \"/content/AIDE dataset/val\"\n",
        "X_val = []\n",
        "Y_val = []\n",
        "for label_folder in os.listdir(val_path):\n",
        "  curr_path = os.path.join(val_path, label_folder)\n",
        "  lbl = list_categories.index(label_folder)\n",
        "  for img_name in os.listdir(curr_path):\n",
        "    img = cv2.imread(os.path.join(curr_path, img_name), cv2.IMREAD_GRAYSCALE)\n",
        "    img = cv2.resize(img, None, fx = 0.5, fy = 0.5)\n",
        "    X_val.append(img)\n",
        "    Y_val.append(int(lbl))\n",
        "X_val = np.array(X_val) / 255.0\n",
        "Y_val = np.array(Y_val)\n",
        "\n",
        "Y_train = to_categorical(Y_train)\n",
        "Y_val = to_categorical(Y_val)"
      ],
      "metadata": {
        "id": "GrAkAk5NlpOk",
        "colab": {
          "base_uri": "https://localhost:8080/"
        },
        "outputId": "f0382709-3ab2-48a9-a9a9-38045bcb9c3d"
      },
      "execution_count": null,
      "outputs": [
        {
          "output_type": "stream",
          "name": "stdout",
          "text": [
            "19007\n",
            "19007\n"
          ]
        }
      ]
    },
    {
      "cell_type": "code",
      "source": [
        "print(f\"Number of train samples: {X_train.shape[0]}\")\n",
        "print(f\"Number of val samples: {X_val.shape[0]}\")"
      ],
      "metadata": {
        "id": "1PpkJyUyPgOw"
      },
      "execution_count": null,
      "outputs": []
    },
    {
      "cell_type": "code",
      "source": [
        "# Define model\n",
        "input_img = Input(shape=(112, 112 , 1), name=\"input\")\n",
        "x = (Resizing(224,224))(input_img)\n",
        "x = Conv2D(filters = 96, kernel_size = (11, 11), strides = (4, 4), padding = \"same\", activation = \"relu\")(x)\n",
        "x = MaxPool2D(pool_size=(3,3), strides=(2,2))(x)\n",
        "x = Conv2D(filters = 256, kernel_size = (5, 5), padding = \"same\", activation = \"relu\")(x)\n",
        "x = MaxPool2D(pool_size=(3,3), strides=(2,2))(x)\n",
        "x = Conv2D(filters = 384, kernel_size = (3, 3), padding = \"same\", activation = \"relu\")(x)\n",
        "x = Conv2D(filters = 384, kernel_size = (3, 3), padding = \"same\", activation = \"relu\")(x)\n",
        "x = Conv2D(filters = 256, kernel_size = (3, 3), padding = \"same\", activation = \"relu\")(x)\n",
        "x = MaxPool2D(pool_size=(3,3), strides=(2,2))(x)\n",
        "x = Flatten()(x)\n",
        "x = Dense(128, activation='relu')(x)\n",
        "x = Dense(64, activation='relu')(x)\n",
        "x = Dense(32, activation='relu')(x)\n",
        "output = Dense(18, activation='softmax')(x)\n",
        "model = Model(inputs = input_img, outputs = output)\n",
        "model.summary()"
      ],
      "metadata": {
        "colab": {
          "base_uri": "https://localhost:8080/"
        },
        "id": "jo41GlWWlwmq",
        "outputId": "8e852312-4842-4bcc-d76c-f0966c7b30ba"
      },
      "execution_count": null,
      "outputs": [
        {
          "output_type": "stream",
          "name": "stdout",
          "text": [
            "Model: \"model\"\n",
            "_________________________________________________________________\n",
            " Layer (type)                Output Shape              Param #   \n",
            "=================================================================\n",
            " input (InputLayer)          [(None, 112, 112, 1)]     0         \n",
            "                                                                 \n",
            " resizing (Resizing)         (None, 224, 224, 1)       0         \n",
            "                                                                 \n",
            " conv2d (Conv2D)             (None, 54, 54, 96)        11712     \n",
            "                                                                 \n",
            " max_pooling2d (MaxPooling2D  (None, 26, 26, 96)       0         \n",
            " )                                                               \n",
            "                                                                 \n",
            " conv2d_1 (Conv2D)           (None, 22, 22, 256)       614656    \n",
            "                                                                 \n",
            " max_pooling2d_1 (MaxPooling  (None, 10, 10, 256)      0         \n",
            " 2D)                                                             \n",
            "                                                                 \n",
            " conv2d_2 (Conv2D)           (None, 8, 8, 384)         885120    \n",
            "                                                                 \n",
            " conv2d_3 (Conv2D)           (None, 6, 6, 384)         1327488   \n",
            "                                                                 \n",
            " conv2d_4 (Conv2D)           (None, 4, 4, 256)         884992    \n",
            "                                                                 \n",
            " max_pooling2d_2 (MaxPooling  (None, 1, 1, 256)        0         \n",
            " 2D)                                                             \n",
            "                                                                 \n",
            " flatten (Flatten)           (None, 256)               0         \n",
            "                                                                 \n",
            " dense (Dense)               (None, 4096)              1052672   \n",
            "                                                                 \n",
            " dense_1 (Dense)             (None, 4096)              16781312  \n",
            "                                                                 \n",
            " dense_2 (Dense)             (None, 1000)              4097000   \n",
            "                                                                 \n",
            " dense_3 (Dense)             (None, 18)                18018     \n",
            "                                                                 \n",
            "=================================================================\n",
            "Total params: 25,672,970\n",
            "Trainable params: 25,672,970\n",
            "Non-trainable params: 0\n",
            "_________________________________________________________________\n"
          ]
        }
      ]
    },
    {
      "cell_type": "code",
      "source": [
        "lr = 0.001\n",
        "opt = keras.optimizers.Adam(learning_rate = lr)\n",
        "model.compile(loss='categorical_crossentropy', optimizer = opt, metrics = ['accuracy'])\n",
        "train = model.fit(X_train, Y_train, validation_data = (X_val, Y_val), epochs = 50, batch_size = 32, verbose = 1)  "
      ],
      "metadata": {
        "id": "0uEKtmE0nw22",
        "colab": {
          "base_uri": "https://localhost:8080/"
        },
        "outputId": "4fdb167c-b8b5-4e60-ad87-98f5cb699fde"
      },
      "execution_count": null,
      "outputs": [
        {
          "output_type": "stream",
          "name": "stdout",
          "text": [
            "Epoch 1/50\n",
            "428/428 [==============================] - 20s 27ms/step - loss: 2.0459 - accuracy: 0.2973 - val_loss: 1.1958 - val_accuracy: 0.5941\n",
            "Epoch 2/50\n",
            "428/428 [==============================] - 11s 27ms/step - loss: 0.6569 - accuracy: 0.7838 - val_loss: 0.4296 - val_accuracy: 0.8738\n",
            "Epoch 3/50\n",
            "428/428 [==============================] - 11s 26ms/step - loss: 0.2914 - accuracy: 0.9146 - val_loss: 0.3042 - val_accuracy: 0.9158\n",
            "Epoch 4/50\n",
            "428/428 [==============================] - 11s 27ms/step - loss: 0.1942 - accuracy: 0.9451 - val_loss: 0.1999 - val_accuracy: 0.9492\n",
            "Epoch 5/50\n",
            "428/428 [==============================] - 11s 27ms/step - loss: 0.1833 - accuracy: 0.9490 - val_loss: 0.2383 - val_accuracy: 0.9392\n",
            "Epoch 6/50\n",
            "428/428 [==============================] - 11s 26ms/step - loss: 0.1745 - accuracy: 0.9522 - val_loss: 0.2572 - val_accuracy: 0.9398\n",
            "Epoch 7/50\n",
            "428/428 [==============================] - 11s 25ms/step - loss: 0.1243 - accuracy: 0.9692 - val_loss: 0.2174 - val_accuracy: 0.9568\n",
            "Epoch 8/50\n",
            "428/428 [==============================] - 11s 27ms/step - loss: 0.1194 - accuracy: 0.9692 - val_loss: 0.2013 - val_accuracy: 0.9494\n",
            "Epoch 9/50\n",
            "428/428 [==============================] - 11s 26ms/step - loss: 0.1054 - accuracy: 0.9728 - val_loss: 0.3106 - val_accuracy: 0.9445\n",
            "Epoch 10/50\n",
            "428/428 [==============================] - 11s 27ms/step - loss: 0.1377 - accuracy: 0.9684 - val_loss: 0.2586 - val_accuracy: 0.9410\n",
            "Epoch 11/50\n",
            "428/428 [==============================] - 11s 26ms/step - loss: 0.0950 - accuracy: 0.9752 - val_loss: 0.2228 - val_accuracy: 0.9667\n",
            "Epoch 12/50\n",
            "428/428 [==============================] - 11s 27ms/step - loss: 0.0832 - accuracy: 0.9790 - val_loss: 0.2202 - val_accuracy: 0.9605\n",
            "Epoch 13/50\n",
            "428/428 [==============================] - 11s 26ms/step - loss: 0.0700 - accuracy: 0.9838 - val_loss: 0.1999 - val_accuracy: 0.9597\n",
            "Epoch 14/50\n",
            "428/428 [==============================] - 11s 25ms/step - loss: 0.1131 - accuracy: 0.9731 - val_loss: 0.1586 - val_accuracy: 0.9717\n",
            "Epoch 15/50\n",
            "428/428 [==============================] - 11s 25ms/step - loss: 0.0971 - accuracy: 0.9772 - val_loss: 0.2910 - val_accuracy: 0.9556\n",
            "Epoch 16/50\n",
            "428/428 [==============================] - 11s 26ms/step - loss: 0.0679 - accuracy: 0.9847 - val_loss: 0.3444 - val_accuracy: 0.9500\n",
            "Epoch 17/50\n",
            "428/428 [==============================] - 11s 26ms/step - loss: 0.1031 - accuracy: 0.9786 - val_loss: 0.1721 - val_accuracy: 0.9652\n",
            "Epoch 18/50\n",
            "428/428 [==============================] - 11s 26ms/step - loss: 0.0367 - accuracy: 0.9909 - val_loss: 0.1554 - val_accuracy: 0.9778\n",
            "Epoch 19/50\n",
            "428/428 [==============================] - 11s 25ms/step - loss: 0.0669 - accuracy: 0.9854 - val_loss: 0.2076 - val_accuracy: 0.9717\n",
            "Epoch 20/50\n",
            "428/428 [==============================] - 11s 26ms/step - loss: 0.1123 - accuracy: 0.9757 - val_loss: 0.1812 - val_accuracy: 0.9705\n",
            "Epoch 21/50\n",
            "428/428 [==============================] - 11s 26ms/step - loss: 0.0511 - accuracy: 0.9882 - val_loss: 0.1579 - val_accuracy: 0.9734\n",
            "Epoch 22/50\n",
            "428/428 [==============================] - 11s 25ms/step - loss: 0.0444 - accuracy: 0.9899 - val_loss: 0.2003 - val_accuracy: 0.9673\n",
            "Epoch 23/50\n",
            "428/428 [==============================] - 11s 26ms/step - loss: 0.0473 - accuracy: 0.9895 - val_loss: 0.2435 - val_accuracy: 0.9521\n",
            "Epoch 24/50\n",
            "428/428 [==============================] - 11s 25ms/step - loss: 0.0417 - accuracy: 0.9914 - val_loss: 0.2249 - val_accuracy: 0.9699\n",
            "Epoch 25/50\n",
            "428/428 [==============================] - 11s 25ms/step - loss: 0.1002 - accuracy: 0.9798 - val_loss: 0.2566 - val_accuracy: 0.9714\n",
            "Epoch 26/50\n",
            "428/428 [==============================] - 11s 25ms/step - loss: 0.0400 - accuracy: 0.9908 - val_loss: 0.2393 - val_accuracy: 0.9714\n",
            "Epoch 27/50\n",
            "428/428 [==============================] - 11s 27ms/step - loss: 0.0299 - accuracy: 0.9924 - val_loss: 0.2778 - val_accuracy: 0.9749\n",
            "Epoch 28/50\n",
            "428/428 [==============================] - 11s 26ms/step - loss: 0.0537 - accuracy: 0.9901 - val_loss: 0.2700 - val_accuracy: 0.9725\n",
            "Epoch 29/50\n",
            "428/428 [==============================] - 11s 25ms/step - loss: 0.0538 - accuracy: 0.9883 - val_loss: 0.1900 - val_accuracy: 0.9740\n",
            "Epoch 30/50\n",
            "428/428 [==============================] - 11s 25ms/step - loss: 0.0395 - accuracy: 0.9917 - val_loss: 0.3148 - val_accuracy: 0.9702\n",
            "Epoch 31/50\n",
            "428/428 [==============================] - 11s 25ms/step - loss: 0.0444 - accuracy: 0.9907 - val_loss: 0.2791 - val_accuracy: 0.9714\n",
            "Epoch 32/50\n",
            "428/428 [==============================] - 11s 25ms/step - loss: 0.1019 - accuracy: 0.9817 - val_loss: 0.2701 - val_accuracy: 0.9655\n",
            "Epoch 33/50\n",
            "428/428 [==============================] - 11s 27ms/step - loss: 0.0569 - accuracy: 0.9900 - val_loss: 0.2602 - val_accuracy: 0.9649\n",
            "Epoch 34/50\n",
            "428/428 [==============================] - 11s 27ms/step - loss: 0.0418 - accuracy: 0.9924 - val_loss: 0.2301 - val_accuracy: 0.9673\n",
            "Epoch 35/50\n",
            "428/428 [==============================] - 11s 26ms/step - loss: 0.0271 - accuracy: 0.9951 - val_loss: 0.2866 - val_accuracy: 0.9722\n",
            "Epoch 36/50\n",
            "428/428 [==============================] - 11s 26ms/step - loss: 0.0574 - accuracy: 0.9900 - val_loss: 0.3045 - val_accuracy: 0.9579\n",
            "Epoch 37/50\n",
            "428/428 [==============================] - 11s 25ms/step - loss: 0.0986 - accuracy: 0.9809 - val_loss: 0.2176 - val_accuracy: 0.9766\n",
            "Epoch 38/50\n",
            "428/428 [==============================] - 11s 25ms/step - loss: 0.0383 - accuracy: 0.9925 - val_loss: 0.4582 - val_accuracy: 0.9483\n",
            "Epoch 39/50\n",
            "428/428 [==============================] - 11s 26ms/step - loss: 0.0588 - accuracy: 0.9908 - val_loss: 0.3162 - val_accuracy: 0.9740\n",
            "Epoch 40/50\n",
            "428/428 [==============================] - 11s 26ms/step - loss: 0.0121 - accuracy: 0.9967 - val_loss: 0.2695 - val_accuracy: 0.9763\n",
            "Epoch 41/50\n",
            "428/428 [==============================] - 11s 25ms/step - loss: 0.0087 - accuracy: 0.9980 - val_loss: 0.2880 - val_accuracy: 0.9714\n",
            "Epoch 42/50\n",
            "428/428 [==============================] - 11s 26ms/step - loss: 0.0079 - accuracy: 0.9984 - val_loss: 0.3768 - val_accuracy: 0.9714\n",
            "Epoch 43/50\n",
            "428/428 [==============================] - 11s 26ms/step - loss: 0.1888 - accuracy: 0.9677 - val_loss: 0.3063 - val_accuracy: 0.9652\n",
            "Epoch 44/50\n",
            "428/428 [==============================] - 11s 25ms/step - loss: 0.0378 - accuracy: 0.9920 - val_loss: 0.2899 - val_accuracy: 0.9737\n",
            "Epoch 45/50\n",
            "428/428 [==============================] - 11s 25ms/step - loss: 0.0193 - accuracy: 0.9966 - val_loss: 0.2462 - val_accuracy: 0.9757\n",
            "Epoch 46/50\n",
            "428/428 [==============================] - 11s 26ms/step - loss: 0.0655 - accuracy: 0.9874 - val_loss: 0.3261 - val_accuracy: 0.9693\n",
            "Epoch 47/50\n",
            "428/428 [==============================] - 11s 26ms/step - loss: 0.0381 - accuracy: 0.9927 - val_loss: 0.2313 - val_accuracy: 0.9746\n",
            "Epoch 48/50\n",
            "428/428 [==============================] - 11s 25ms/step - loss: 0.0291 - accuracy: 0.9952 - val_loss: 0.4291 - val_accuracy: 0.9760\n",
            "Epoch 49/50\n",
            "428/428 [==============================] - 11s 25ms/step - loss: 0.0478 - accuracy: 0.9923 - val_loss: 0.2426 - val_accuracy: 0.9731\n",
            "Epoch 50/50\n",
            "428/428 [==============================] - 11s 27ms/step - loss: 0.0652 - accuracy: 0.9907 - val_loss: 0.3059 - val_accuracy: 0.9652\n"
          ]
        }
      ]
    },
    {
      "cell_type": "code",
      "source": [
        "# Load test \n",
        "test_path = \"/content/AIDE dataset/test\"\n",
        "X_test = []\n",
        "Y_test = []\n",
        "for label_folder in os.listdir(test_path):\n",
        "  curr_path = os.path.join(test_path, label_folder)\n",
        "  lbl = list_categories.index(label_folder)\n",
        "  for img_name in os.listdir(curr_path):\n",
        "    img = cv2.imread(os.path.join(curr_path, img_name), cv2.IMREAD_GRAYSCALE)\n",
        "    img = cv2.resize(img, None, fx = 0.5, fy = 0.5)\n",
        "    X_test.append(img)\n",
        "    Y_test.append(int(lbl))\n",
        "X_test = np.array(X_val) / 255.0\n",
        "Y_test = np.array(Y_val)\n",
        "\n",
        "Y_test = to_categorical(Y_test)"
      ],
      "metadata": {
        "id": "mwgzVRYKPodS"
      },
      "execution_count": null,
      "outputs": []
    },
    {
      "cell_type": "code",
      "source": [
        "test_loss, test_accuracy = model.evaluate(X_test, Y_test, verbose=0)\n",
        "print(\"Loss = \", test_loss)\n",
        "print(\"Evaluation Accuracy = \", test_accuracy * 100)"
      ],
      "metadata": {
        "id": "JSKMaXgPnzTW",
        "colab": {
          "base_uri": "https://localhost:8080/"
        },
        "outputId": "b09c7408-857e-4cf0-9288-062f3f87f55e"
      },
      "execution_count": null,
      "outputs": [
        {
          "output_type": "stream",
          "name": "stdout",
          "text": [
            "Loss =  0.21576406061649323\n",
            "Accuracy =  96.63335084915161\n"
          ]
        }
      ]
    },
    {
      "cell_type": "code",
      "source": [
        "count = 0\n",
        "for i in range(X_test.shape[0]):\n",
        "  pred = model.predict(X_test[i].reshape(1, 112, 112, 1))\n",
        "  pred = list_categories[np.argmax(pred)]\n",
        "  true = list_categories[np.argmax(Y_test[i])]\n",
        "  if pred == true:\n",
        "    count += 1\n",
        "print(f\"Test Accuracy: {count / X_test.shape[0]}\")"
      ],
      "metadata": {
        "id": "vRCv-lWbn0se",
        "colab": {
          "base_uri": "https://localhost:8080/",
          "height": 372
        },
        "outputId": "27426485-2760-4197-cd86-7355983b8ce3"
      },
      "execution_count": null,
      "outputs": [
        {
          "output_type": "stream",
          "name": "stdout",
          "text": [
            "[[1.6329028e-23 3.5971587e-20 0.0000000e+00 0.0000000e+00 0.0000000e+00\n",
            "  9.0095645e-01 5.0531574e-23 0.0000000e+00 1.4262780e-21 1.6135251e-19\n",
            "  7.7469612e-24 0.0000000e+00 0.0000000e+00 0.0000000e+00 0.0000000e+00\n",
            "  0.0000000e+00 9.9043548e-02 0.0000000e+00]]\n",
            "5\n",
            "5\n"
          ]
        },
        {
          "output_type": "display_data",
          "data": {
            "text/plain": [
              "<Figure size 432x288 with 1 Axes>"
            ],
            "image/png": "[encoded data removed]"
          },
          "metadata": {
            "needs_background": "light"
          }
        }
      ]
    },
    {
      "cell_type": "code",
      "source": [
        "accuracy = train.history['accuracy']\n",
        "val_accuracy = train.history['val_accuracy']\n",
        "epochs = range(len(accuracy))\n",
        "plt.plot(epochs, accuracy, 'b', label='Training Accuracy')\n",
        "plt.plot(epochs, val_accuracy, 'r', label='Validation Accuracy')\n",
        "plt.title('Model Accuracy')\n",
        "plt.legend()\n",
        "plt.show()"
      ],
      "metadata": {
        "id": "1x2ok6Ren18e",
        "colab": {
          "base_uri": "https://localhost:8080/",
          "height": 281
        },
        "outputId": "2618a968-c8a6-4dca-a502-ae2f44a16f21"
      },
      "execution_count": null,
      "outputs": [
        {
          "output_type": "display_data",
          "data": {
            "text/plain": [
              "<Figure size 432x288 with 1 Axes>"
            ],
            "image/png": "[encoded data removed]"
          },
          "metadata": {
            "needs_background": "light"
          }
        }
      ]
    },
    {
      "cell_type": "code",
      "source": [
        "train_loss = train.history['loss']\n",
        "val_loss = train.history['val_loss']\n",
        "epochs = range(len(train_loss))\n",
        "plt.plot(epochs, train_loss, 'b', label='Training Loss')\n",
        "plt.plot(epochs, val_loss, 'r', label='Validation Loss')\n",
        "plt.title('Model Loss')\n",
        "plt.legend()\n",
        "plt.show()"
      ],
      "metadata": {
        "id": "0sFmeV8Sn3GI",
        "colab": {
          "base_uri": "https://localhost:8080/",
          "height": 281
        },
        "outputId": "4df5c88e-8718-447b-9694-8dce9e360901"
      },
      "execution_count": null,
      "outputs": [
        {
          "output_type": "display_data",
          "data": {
            "text/plain": [
              "<Figure size 432x288 with 1 Axes>"
            ],
            "image/png": "[encoded data removed]"
          },
          "metadata": {
            "needs_background": "light"
          }
        }
      ]
    },
    {
      "cell_type": "code",
      "source": [
        "model_json = model.to_json()\n",
        "with open(f\"/content/gdrive/MyDrive/AI Draw Equation/Model/AlexNet lr={lr}.json\", \"w\") as json_file:\n",
        "    json_file.write(model_json)\n",
        "model.save_weights(f\"/content/gdrive/MyDrive/AI Draw Equation/Model/AlexNet lr={lr}.h5\")"
      ],
      "metadata": {
        "id": "HKQj6jp-n4pA"
      },
      "execution_count": null,
      "outputs": []
    }
  ]
}

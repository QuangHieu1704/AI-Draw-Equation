{
  "nbformat": 4,
  "nbformat_minor": 0,
  "metadata": {
    "colab": {
      "name": "AIDE_MobileNet.ipynb",
      "provenance": []
    },
    "kernelspec": {
      "name": "python3",
      "display_name": "Python 3"
    },
    "language_info": {
      "name": "python"
    },
    "accelerator": "GPU",
    "gpuClass": "standard"
  },
  "cells": [
    {
      "cell_type": "code",
      "execution_count": 1,
      "metadata": {
        "id": "R76gnVqwrKEl",
        "colab": {
          "base_uri": "https://localhost:8080/"
        },
        "outputId": "b1681532-0efa-4e58-8eca-0c7bfd0333b3"
      },
      "outputs": [
        {
          "output_type": "stream",
          "name": "stderr",
          "text": [
            "/usr/local/lib/python3.7/dist-packages/ipykernel_launcher.py:3: TqdmExperimentalWarning: Using `tqdm.autonotebook.tqdm` in notebook mode. Use `tqdm.tqdm` instead to force console mode (e.g. in jupyter console)\n",
            "  This is separate from the ipykernel package so we can avoid doing imports until\n"
          ]
        }
      ],
      "source": [
        "import sklearn\n",
        "import os\n",
        "from tqdm.autonotebook import tqdm\n",
        "import numpy as np\n",
        "from PIL import Image\n",
        "import pandas as pd\n",
        "from google.colab.patches import cv2_imshow\n",
        "import cv2\n",
        "import matplotlib.pyplot as plt\n",
        "import tensorflow as tf\n",
        "from tensorflow import keras\n",
        "from tensorflow.keras import layers\n",
        "from keras.models import Sequential, load_model, Model \n",
        "from keras.layers import Conv2D, MaxPool2D, Add, Dense, Reshape, Flatten, Dropout, BatchNormalization, ReLU, Activation, Concatenate, Flatten, Input, Concatenate, Activation, LSTM, Bidirectional, Lambda\n",
        "from tensorflow.keras.layers.experimental.preprocessing import Resizing\n",
        "from keras import Input\n",
        "from keras import backend\n",
        "from sklearn.model_selection import train_test_split\n",
        "from keras.utils import np_utils\n",
        "from tensorflow.keras.utils import to_categorical"
      ]
    },
    {
      "cell_type": "code",
      "source": [
        "from google.colab import drive\n",
        "drive.mount('/content/gdrive')"
      ],
      "metadata": {
        "id": "nVwVEuXorslr",
        "colab": {
          "base_uri": "https://localhost:8080/"
        },
        "outputId": "9010c355-01c0-4883-f16c-5f4724c7c1bf"
      },
      "execution_count": 2,
      "outputs": [
        {
          "output_type": "stream",
          "name": "stdout",
          "text": [
            "Mounted at /content/gdrive\n"
          ]
        }
      ]
    },
    {
      "cell_type": "code",
      "source": [
        "# check GPU\n",
        "!nvidia-smi"
      ],
      "metadata": {
        "id": "uebanOgzrttp",
        "colab": {
          "base_uri": "https://localhost:8080/"
        },
        "outputId": "d7e18a22-111e-4103-d739-d387f5f4c609"
      },
      "execution_count": 3,
      "outputs": [
        {
          "output_type": "stream",
          "name": "stdout",
          "text": [
            "Mon Aug  1 16:52:08 2022       \n",
            "+-----------------------------------------------------------------------------+\n",
            "| NVIDIA-SMI 460.32.03    Driver Version: 460.32.03    CUDA Version: 11.2     |\n",
            "|-------------------------------+----------------------+----------------------+\n",
            "| GPU  Name        Persistence-M| Bus-Id        Disp.A | Volatile Uncorr. ECC |\n",
            "| Fan  Temp  Perf  Pwr:Usage/Cap|         Memory-Usage | GPU-Util  Compute M. |\n",
            "|                               |                      |               MIG M. |\n",
            "|===============================+======================+======================|\n",
            "|   0  Tesla T4            Off  | 00000000:00:04.0 Off |                    0 |\n",
            "| N/A   41C    P8     9W /  70W |      0MiB / 15109MiB |      0%      Default |\n",
            "|                               |                      |                  N/A |\n",
            "+-------------------------------+----------------------+----------------------+\n",
            "                                                                               \n",
            "+-----------------------------------------------------------------------------+\n",
            "| Processes:                                                                  |\n",
            "|  GPU   GI   CI        PID   Type   Process name                  GPU Memory |\n",
            "|        ID   ID                                                   Usage      |\n",
            "|=============================================================================|\n",
            "|  No running processes found                                                 |\n",
            "+-----------------------------------------------------------------------------+\n"
          ]
        }
      ]
    },
    {
      "cell_type": "code",
      "source": [
        "!unzip \"/content/gdrive/MyDrive/AI Draw Equation/AIDE dataset.zip\" -d \"/content\""
      ],
      "metadata": {
        "id": "Eud-Teavrulg"
      },
      "execution_count": null,
      "outputs": []
    },
    {
      "cell_type": "code",
      "source": [
        "# Load train and val dataset\n",
        "list_categories = [\"0\", \"1\", \"2\", \"3\", \"4\", \"5\", \"6\", \"7\", \"8\", \"9\", \"add\", \"dec\", \"div\", \"mul\", \"stroke\", \"sub\", \"(\", \")\"]\n",
        "train_path = \"/content/AIDE dataset/train\"\n",
        "X_train = []\n",
        "Y_train = []\n",
        "for label_folder in os.listdir(train_path):\n",
        "  curr_path = os.path.join(train_path, label_folder)\n",
        "  lbl = list_categories.index(label_folder)\n",
        "  for img_name in os.listdir(curr_path):\n",
        "    img = cv2.imread(os.path.join(curr_path, img_name), cv2.IMREAD_GRAYSCALE)\n",
        "    img = cv2.resize(img, None, fx = 0.5, fy = 0.5)\n",
        "    X_train.append(img)\n",
        "    Y_train.append(int(lbl))\n",
        "X_train = np.array(X_train) / 255.0\n",
        "Y_train = np.array(Y_train)\n",
        "\n",
        "val_path = \"/content/AIDE dataset/val\"\n",
        "X_val = []\n",
        "Y_val = []\n",
        "for label_folder in os.listdir(val_path):\n",
        "  curr_path = os.path.join(val_path, label_folder)\n",
        "  lbl = list_categories.index(label_folder)\n",
        "  for img_name in os.listdir(curr_path):\n",
        "    img = cv2.imread(os.path.join(curr_path, img_name), cv2.IMREAD_GRAYSCALE)\n",
        "    img = cv2.resize(img, None, fx = 0.5, fy = 0.5)\n",
        "    X_val.append(img)\n",
        "    Y_val.append(int(lbl))\n",
        "X_val = np.array(X_val) / 255.0\n",
        "Y_val = np.array(Y_val)\n",
        "\n",
        "Y_train = to_categorical(Y_train)\n",
        "Y_val = to_categorical(Y_val)"
      ],
      "metadata": {
        "id": "I0SkVIXhrwfu"
      },
      "execution_count": 5,
      "outputs": []
    },
    {
      "cell_type": "code",
      "source": [
        "print(f\"Number of train samples: {X_train.shape[0]}\")\n",
        "print(f\"Number of val samples: {X_val.shape[0]}\")"
      ],
      "metadata": {
        "colab": {
          "base_uri": "https://localhost:8080/"
        },
        "id": "vlG8KBnwTk4d",
        "outputId": "600adf68-4b99-447b-c6ff-7d89a0e569ea"
      },
      "execution_count": 6,
      "outputs": [
        {
          "output_type": "stream",
          "name": "stdout",
          "text": [
            "Number of train samples: 11394\n",
            "Number of val samples: 3806\n"
          ]
        }
      ]
    },
    {
      "cell_type": "code",
      "source": [
        "# Define model\n",
        "from tensorflow.keras.applications import mobilenet\n",
        "\n",
        "input_img = Input(shape=(112, 112 , 1), name=\"input\")\n",
        "x = Concatenate()([input_img, input_img, input_img])\n",
        "model_mobilenet = mobilenet.MobileNet(weights='imagenet',input_tensor = x, include_top=False)\n",
        "x = model_mobilenet.output\n",
        "x = Flatten()(x)\n",
        "x = Dense(1028, activation='relu')(x)\n",
        "x = Dense(512, activation='relu')(x)\n",
        "x = Dense(128, activation='relu')(x)\n",
        "output = Dense(18, activation='softmax')(x)\n",
        "model = Model(inputs = input_img, outputs = output)\n",
        "model.summary()"
      ],
      "metadata": {
        "id": "ld6avgvSr0zy",
        "colab": {
          "base_uri": "https://localhost:8080/"
        },
        "outputId": "5f382336-7bc6-4dda-ddbb-4cd39c4f7c30"
      },
      "execution_count": 9,
      "outputs": [
        {
          "output_type": "stream",
          "name": "stdout",
          "text": [
            "WARNING:tensorflow:`input_shape` is undefined or non-square, or `rows` is not in [128, 160, 192, 224]. Weights for input shape (224, 224) will be loaded as the default.\n",
            "Model: \"model_1\"\n",
            "__________________________________________________________________________________________________\n",
            " Layer (type)                   Output Shape         Param #     Connected to                     \n",
            "==================================================================================================\n",
            " input (InputLayer)             [(None, 112, 112, 1  0           []                               \n",
            "                                )]                                                                \n",
            "                                                                                                  \n",
            " concatenate_1 (Concatenate)    (None, 112, 112, 3)  0           ['input[0][0]',                  \n",
            "                                                                  'input[0][0]',                  \n",
            "                                                                  'input[0][0]']                  \n",
            "                                                                                                  \n",
            " conv1 (Conv2D)                 (None, 56, 56, 32)   864         ['concatenate_1[0][0]']          \n",
            "                                                                                                  \n",
            " conv1_bn (BatchNormalization)  (None, 56, 56, 32)   128         ['conv1[0][0]']                  \n",
            "                                                                                                  \n",
            " conv1_relu (ReLU)              (None, 56, 56, 32)   0           ['conv1_bn[0][0]']               \n",
            "                                                                                                  \n",
            " conv_dw_1 (DepthwiseConv2D)    (None, 56, 56, 32)   288         ['conv1_relu[0][0]']             \n",
            "                                                                                                  \n",
            " conv_dw_1_bn (BatchNormalizati  (None, 56, 56, 32)  128         ['conv_dw_1[0][0]']              \n",
            " on)                                                                                              \n",
            "                                                                                                  \n",
            " conv_dw_1_relu (ReLU)          (None, 56, 56, 32)   0           ['conv_dw_1_bn[0][0]']           \n",
            "                                                                                                  \n",
            " conv_pw_1 (Conv2D)             (None, 56, 56, 64)   2048        ['conv_dw_1_relu[0][0]']         \n",
            "                                                                                                  \n",
            " conv_pw_1_bn (BatchNormalizati  (None, 56, 56, 64)  256         ['conv_pw_1[0][0]']              \n",
            " on)                                                                                              \n",
            "                                                                                                  \n",
            " conv_pw_1_relu (ReLU)          (None, 56, 56, 64)   0           ['conv_pw_1_bn[0][0]']           \n",
            "                                                                                                  \n",
            " conv_pad_2 (ZeroPadding2D)     (None, 57, 57, 64)   0           ['conv_pw_1_relu[0][0]']         \n",
            "                                                                                                  \n",
            " conv_dw_2 (DepthwiseConv2D)    (None, 28, 28, 64)   576         ['conv_pad_2[0][0]']             \n",
            "                                                                                                  \n",
            " conv_dw_2_bn (BatchNormalizati  (None, 28, 28, 64)  256         ['conv_dw_2[0][0]']              \n",
            " on)                                                                                              \n",
            "                                                                                                  \n",
            " conv_dw_2_relu (ReLU)          (None, 28, 28, 64)   0           ['conv_dw_2_bn[0][0]']           \n",
            "                                                                                                  \n",
            " conv_pw_2 (Conv2D)             (None, 28, 28, 128)  8192        ['conv_dw_2_relu[0][0]']         \n",
            "                                                                                                  \n",
            " conv_pw_2_bn (BatchNormalizati  (None, 28, 28, 128)  512        ['conv_pw_2[0][0]']              \n",
            " on)                                                                                              \n",
            "                                                                                                  \n",
            " conv_pw_2_relu (ReLU)          (None, 28, 28, 128)  0           ['conv_pw_2_bn[0][0]']           \n",
            "                                                                                                  \n",
            " conv_dw_3 (DepthwiseConv2D)    (None, 28, 28, 128)  1152        ['conv_pw_2_relu[0][0]']         \n",
            "                                                                                                  \n",
            " conv_dw_3_bn (BatchNormalizati  (None, 28, 28, 128)  512        ['conv_dw_3[0][0]']              \n",
            " on)                                                                                              \n",
            "                                                                                                  \n",
            " conv_dw_3_relu (ReLU)          (None, 28, 28, 128)  0           ['conv_dw_3_bn[0][0]']           \n",
            "                                                                                                  \n",
            " conv_pw_3 (Conv2D)             (None, 28, 28, 128)  16384       ['conv_dw_3_relu[0][0]']         \n",
            "                                                                                                  \n",
            " conv_pw_3_bn (BatchNormalizati  (None, 28, 28, 128)  512        ['conv_pw_3[0][0]']              \n",
            " on)                                                                                              \n",
            "                                                                                                  \n",
            " conv_pw_3_relu (ReLU)          (None, 28, 28, 128)  0           ['conv_pw_3_bn[0][0]']           \n",
            "                                                                                                  \n",
            " conv_pad_4 (ZeroPadding2D)     (None, 29, 29, 128)  0           ['conv_pw_3_relu[0][0]']         \n",
            "                                                                                                  \n",
            " conv_dw_4 (DepthwiseConv2D)    (None, 14, 14, 128)  1152        ['conv_pad_4[0][0]']             \n",
            "                                                                                                  \n",
            " conv_dw_4_bn (BatchNormalizati  (None, 14, 14, 128)  512        ['conv_dw_4[0][0]']              \n",
            " on)                                                                                              \n",
            "                                                                                                  \n",
            " conv_dw_4_relu (ReLU)          (None, 14, 14, 128)  0           ['conv_dw_4_bn[0][0]']           \n",
            "                                                                                                  \n",
            " conv_pw_4 (Conv2D)             (None, 14, 14, 256)  32768       ['conv_dw_4_relu[0][0]']         \n",
            "                                                                                                  \n",
            " conv_pw_4_bn (BatchNormalizati  (None, 14, 14, 256)  1024       ['conv_pw_4[0][0]']              \n",
            " on)                                                                                              \n",
            "                                                                                                  \n",
            " conv_pw_4_relu (ReLU)          (None, 14, 14, 256)  0           ['conv_pw_4_bn[0][0]']           \n",
            "                                                                                                  \n",
            " conv_dw_5 (DepthwiseConv2D)    (None, 14, 14, 256)  2304        ['conv_pw_4_relu[0][0]']         \n",
            "                                                                                                  \n",
            " conv_dw_5_bn (BatchNormalizati  (None, 14, 14, 256)  1024       ['conv_dw_5[0][0]']              \n",
            " on)                                                                                              \n",
            "                                                                                                  \n",
            " conv_dw_5_relu (ReLU)          (None, 14, 14, 256)  0           ['conv_dw_5_bn[0][0]']           \n",
            "                                                                                                  \n",
            " conv_pw_5 (Conv2D)             (None, 14, 14, 256)  65536       ['conv_dw_5_relu[0][0]']         \n",
            "                                                                                                  \n",
            " conv_pw_5_bn (BatchNormalizati  (None, 14, 14, 256)  1024       ['conv_pw_5[0][0]']              \n",
            " on)                                                                                              \n",
            "                                                                                                  \n",
            " conv_pw_5_relu (ReLU)          (None, 14, 14, 256)  0           ['conv_pw_5_bn[0][0]']           \n",
            "                                                                                                  \n",
            " conv_pad_6 (ZeroPadding2D)     (None, 15, 15, 256)  0           ['conv_pw_5_relu[0][0]']         \n",
            "                                                                                                  \n",
            " conv_dw_6 (DepthwiseConv2D)    (None, 7, 7, 256)    2304        ['conv_pad_6[0][0]']             \n",
            "                                                                                                  \n",
            " conv_dw_6_bn (BatchNormalizati  (None, 7, 7, 256)   1024        ['conv_dw_6[0][0]']              \n",
            " on)                                                                                              \n",
            "                                                                                                  \n",
            " conv_dw_6_relu (ReLU)          (None, 7, 7, 256)    0           ['conv_dw_6_bn[0][0]']           \n",
            "                                                                                                  \n",
            " conv_pw_6 (Conv2D)             (None, 7, 7, 512)    131072      ['conv_dw_6_relu[0][0]']         \n",
            "                                                                                                  \n",
            " conv_pw_6_bn (BatchNormalizati  (None, 7, 7, 512)   2048        ['conv_pw_6[0][0]']              \n",
            " on)                                                                                              \n",
            "                                                                                                  \n",
            " conv_pw_6_relu (ReLU)          (None, 7, 7, 512)    0           ['conv_pw_6_bn[0][0]']           \n",
            "                                                                                                  \n",
            " conv_dw_7 (DepthwiseConv2D)    (None, 7, 7, 512)    4608        ['conv_pw_6_relu[0][0]']         \n",
            "                                                                                                  \n",
            " conv_dw_7_bn (BatchNormalizati  (None, 7, 7, 512)   2048        ['conv_dw_7[0][0]']              \n",
            " on)                                                                                              \n",
            "                                                                                                  \n",
            " conv_dw_7_relu (ReLU)          (None, 7, 7, 512)    0           ['conv_dw_7_bn[0][0]']           \n",
            "                                                                                                  \n",
            " conv_pw_7 (Conv2D)             (None, 7, 7, 512)    262144      ['conv_dw_7_relu[0][0]']         \n",
            "                                                                                                  \n",
            " conv_pw_7_bn (BatchNormalizati  (None, 7, 7, 512)   2048        ['conv_pw_7[0][0]']              \n",
            " on)                                                                                              \n",
            "                                                                                                  \n",
            " conv_pw_7_relu (ReLU)          (None, 7, 7, 512)    0           ['conv_pw_7_bn[0][0]']           \n",
            "                                                                                                  \n",
            " conv_dw_8 (DepthwiseConv2D)    (None, 7, 7, 512)    4608        ['conv_pw_7_relu[0][0]']         \n",
            "                                                                                                  \n",
            " conv_dw_8_bn (BatchNormalizati  (None, 7, 7, 512)   2048        ['conv_dw_8[0][0]']              \n",
            " on)                                                                                              \n",
            "                                                                                                  \n",
            " conv_dw_8_relu (ReLU)          (None, 7, 7, 512)    0           ['conv_dw_8_bn[0][0]']           \n",
            "                                                                                                  \n",
            " conv_pw_8 (Conv2D)             (None, 7, 7, 512)    262144      ['conv_dw_8_relu[0][0]']         \n",
            "                                                                                                  \n",
            " conv_pw_8_bn (BatchNormalizati  (None, 7, 7, 512)   2048        ['conv_pw_8[0][0]']              \n",
            " on)                                                                                              \n",
            "                                                                                                  \n",
            " conv_pw_8_relu (ReLU)          (None, 7, 7, 512)    0           ['conv_pw_8_bn[0][0]']           \n",
            "                                                                                                  \n",
            " conv_dw_9 (DepthwiseConv2D)    (None, 7, 7, 512)    4608        ['conv_pw_8_relu[0][0]']         \n",
            "                                                                                                  \n",
            " conv_dw_9_bn (BatchNormalizati  (None, 7, 7, 512)   2048        ['conv_dw_9[0][0]']              \n",
            " on)                                                                                              \n",
            "                                                                                                  \n",
            " conv_dw_9_relu (ReLU)          (None, 7, 7, 512)    0           ['conv_dw_9_bn[0][0]']           \n",
            "                                                                                                  \n",
            " conv_pw_9 (Conv2D)             (None, 7, 7, 512)    262144      ['conv_dw_9_relu[0][0]']         \n",
            "                                                                                                  \n",
            " conv_pw_9_bn (BatchNormalizati  (None, 7, 7, 512)   2048        ['conv_pw_9[0][0]']              \n",
            " on)                                                                                              \n",
            "                                                                                                  \n",
            " conv_pw_9_relu (ReLU)          (None, 7, 7, 512)    0           ['conv_pw_9_bn[0][0]']           \n",
            "                                                                                                  \n",
            " conv_dw_10 (DepthwiseConv2D)   (None, 7, 7, 512)    4608        ['conv_pw_9_relu[0][0]']         \n",
            "                                                                                                  \n",
            " conv_dw_10_bn (BatchNormalizat  (None, 7, 7, 512)   2048        ['conv_dw_10[0][0]']             \n",
            " ion)                                                                                             \n",
            "                                                                                                  \n",
            " conv_dw_10_relu (ReLU)         (None, 7, 7, 512)    0           ['conv_dw_10_bn[0][0]']          \n",
            "                                                                                                  \n",
            " conv_pw_10 (Conv2D)            (None, 7, 7, 512)    262144      ['conv_dw_10_relu[0][0]']        \n",
            "                                                                                                  \n",
            " conv_pw_10_bn (BatchNormalizat  (None, 7, 7, 512)   2048        ['conv_pw_10[0][0]']             \n",
            " ion)                                                                                             \n",
            "                                                                                                  \n",
            " conv_pw_10_relu (ReLU)         (None, 7, 7, 512)    0           ['conv_pw_10_bn[0][0]']          \n",
            "                                                                                                  \n",
            " conv_dw_11 (DepthwiseConv2D)   (None, 7, 7, 512)    4608        ['conv_pw_10_relu[0][0]']        \n",
            "                                                                                                  \n",
            " conv_dw_11_bn (BatchNormalizat  (None, 7, 7, 512)   2048        ['conv_dw_11[0][0]']             \n",
            " ion)                                                                                             \n",
            "                                                                                                  \n",
            " conv_dw_11_relu (ReLU)         (None, 7, 7, 512)    0           ['conv_dw_11_bn[0][0]']          \n",
            "                                                                                                  \n",
            " conv_pw_11 (Conv2D)            (None, 7, 7, 512)    262144      ['conv_dw_11_relu[0][0]']        \n",
            "                                                                                                  \n",
            " conv_pw_11_bn (BatchNormalizat  (None, 7, 7, 512)   2048        ['conv_pw_11[0][0]']             \n",
            " ion)                                                                                             \n",
            "                                                                                                  \n",
            " conv_pw_11_relu (ReLU)         (None, 7, 7, 512)    0           ['conv_pw_11_bn[0][0]']          \n",
            "                                                                                                  \n",
            " conv_pad_12 (ZeroPadding2D)    (None, 8, 8, 512)    0           ['conv_pw_11_relu[0][0]']        \n",
            "                                                                                                  \n",
            " conv_dw_12 (DepthwiseConv2D)   (None, 3, 3, 512)    4608        ['conv_pad_12[0][0]']            \n",
            "                                                                                                  \n",
            " conv_dw_12_bn (BatchNormalizat  (None, 3, 3, 512)   2048        ['conv_dw_12[0][0]']             \n",
            " ion)                                                                                             \n",
            "                                                                                                  \n",
            " conv_dw_12_relu (ReLU)         (None, 3, 3, 512)    0           ['conv_dw_12_bn[0][0]']          \n",
            "                                                                                                  \n",
            " conv_pw_12 (Conv2D)            (None, 3, 3, 1024)   524288      ['conv_dw_12_relu[0][0]']        \n",
            "                                                                                                  \n",
            " conv_pw_12_bn (BatchNormalizat  (None, 3, 3, 1024)  4096        ['conv_pw_12[0][0]']             \n",
            " ion)                                                                                             \n",
            "                                                                                                  \n",
            " conv_pw_12_relu (ReLU)         (None, 3, 3, 1024)   0           ['conv_pw_12_bn[0][0]']          \n",
            "                                                                                                  \n",
            " conv_dw_13 (DepthwiseConv2D)   (None, 3, 3, 1024)   9216        ['conv_pw_12_relu[0][0]']        \n",
            "                                                                                                  \n",
            " conv_dw_13_bn (BatchNormalizat  (None, 3, 3, 1024)  4096        ['conv_dw_13[0][0]']             \n",
            " ion)                                                                                             \n",
            "                                                                                                  \n",
            " conv_dw_13_relu (ReLU)         (None, 3, 3, 1024)   0           ['conv_dw_13_bn[0][0]']          \n",
            "                                                                                                  \n",
            " conv_pw_13 (Conv2D)            (None, 3, 3, 1024)   1048576     ['conv_dw_13_relu[0][0]']        \n",
            "                                                                                                  \n",
            " conv_pw_13_bn (BatchNormalizat  (None, 3, 3, 1024)  4096        ['conv_pw_13[0][0]']             \n",
            " ion)                                                                                             \n",
            "                                                                                                  \n",
            " conv_pw_13_relu (ReLU)         (None, 3, 3, 1024)   0           ['conv_pw_13_bn[0][0]']          \n",
            "                                                                                                  \n",
            " flatten_1 (Flatten)            (None, 9216)         0           ['conv_pw_13_relu[0][0]']        \n",
            "                                                                                                  \n",
            " dense_2 (Dense)                (None, 1028)         9475076     ['flatten_1[0][0]']              \n",
            "                                                                                                  \n",
            " dense_3 (Dense)                (None, 512)          526848      ['dense_2[0][0]']                \n",
            "                                                                                                  \n",
            " dense_4 (Dense)                (None, 128)          65664       ['dense_3[0][0]']                \n",
            "                                                                                                  \n",
            " dense_5 (Dense)                (None, 18)           2322        ['dense_4[0][0]']                \n",
            "                                                                                                  \n",
            "==================================================================================================\n",
            "Total params: 13,298,774\n",
            "Trainable params: 13,276,886\n",
            "Non-trainable params: 21,888\n",
            "__________________________________________________________________________________________________\n"
          ]
        }
      ]
    },
    {
      "cell_type": "code",
      "source": [
        "lr = 0.001\n",
        "opt = keras.optimizers.Adam(learning_rate = lr)\n",
        "model.compile(loss='categorical_crossentropy', optimizer = opt, metrics = ['accuracy'])\n",
        "train = model.fit(X_train, Y_train, validation_data = (X_val, Y_val), epochs = 50, batch_size = 32, verbose = 1)  "
      ],
      "metadata": {
        "id": "mCjeMJf7r31J",
        "colab": {
          "base_uri": "https://localhost:8080/"
        },
        "outputId": "70c2665d-669a-47fe-be0e-fcdae1a904d7"
      },
      "execution_count": 10,
      "outputs": [
        {
          "output_type": "stream",
          "name": "stdout",
          "text": [
            "Epoch 1/5\n",
            "357/357 [==============================] - 23s 55ms/step - loss: 0.4869 - accuracy: 0.8914 - val_loss: 0.4045 - val_accuracy: 0.9096\n",
            "Epoch 2/5\n",
            "357/357 [==============================] - 19s 53ms/step - loss: 0.2598 - accuracy: 0.9378 - val_loss: 0.2209 - val_accuracy: 0.9425\n",
            "Epoch 3/5\n",
            "357/357 [==============================] - 19s 53ms/step - loss: 0.1285 - accuracy: 0.9686 - val_loss: 0.1232 - val_accuracy: 0.9777\n",
            "Epoch 4/5\n",
            "357/357 [==============================] - 19s 53ms/step - loss: 0.2065 - accuracy: 0.9576 - val_loss: 0.0957 - val_accuracy: 0.9753\n",
            "Epoch 5/5\n",
            "357/357 [==============================] - 19s 53ms/step - loss: 0.1380 - accuracy: 0.9701 - val_loss: 0.1795 - val_accuracy: 0.9598\n"
          ]
        }
      ]
    },
    {
      "cell_type": "code",
      "source": [
        "# Load test \n",
        "test_path = \"/content/AIDE dataset/test\"\n",
        "X_test = []\n",
        "Y_test = []\n",
        "for label_folder in os.listdir(test_path):\n",
        "  curr_path = os.path.join(test_path, label_folder)\n",
        "  lbl = list_categories.index(label_folder)\n",
        "  for img_name in os.listdir(curr_path):\n",
        "    img = cv2.imread(os.path.join(curr_path, img_name), cv2.IMREAD_GRAYSCALE)\n",
        "    img = cv2.resize(img, None, fx = 0.5, fy = 0.5)\n",
        "    X_test.append(img)\n",
        "    Y_test.append(int(lbl))\n",
        "X_test = np.array(X_test) / 255.0\n",
        "Y_test = np.array(Y_test)\n",
        "\n",
        "Y_test = to_categorical(Y_test)"
      ],
      "metadata": {
        "id": "N9GKvf_qWIGd"
      },
      "execution_count": 11,
      "outputs": []
    },
    {
      "cell_type": "code",
      "source": [
        "test_loss, test_accuracy = model.evaluate(X_test, Y_test, verbose=0)\n",
        "print(\"Loss = \", test_loss)\n",
        "print(\"Evaluation Accuracy = \", test_accuracy * 100)"
      ],
      "metadata": {
        "id": "_x3RF6rBr6eW",
        "colab": {
          "base_uri": "https://localhost:8080/"
        },
        "outputId": "2eb5ef96-96d1-4f0c-f4d6-8aca7831c7bc"
      },
      "execution_count": 12,
      "outputs": [
        {
          "output_type": "stream",
          "name": "stdout",
          "text": [
            "Loss =  0.16095642745494843\n",
            "Evaluation Accuracy =  96.08615636825562\n"
          ]
        }
      ]
    },
    {
      "cell_type": "code",
      "source": [
        "count = 0\n",
        "for i in range(X_test.shape[0]):\n",
        "  pred = model.predict(X_test[i].reshape(1, 112, 112, 1))\n",
        "  pred = list_categories[np.argmax(pred)]\n",
        "  true = list_categories[np.argmax(Y_test[i])]\n",
        "  if pred == true:\n",
        "    count += 1\n",
        "print(f\"Test Accuracy: {count / X_test.shape[0]}\")"
      ],
      "metadata": {
        "id": "kUNOS4oer8Sc",
        "colab": {
          "base_uri": "https://localhost:8080/"
        },
        "outputId": "86a03c6d-ac8d-4651-eaa8-e8ad68b2df63"
      },
      "execution_count": 13,
      "outputs": [
        {
          "output_type": "stream",
          "name": "stdout",
          "text": [
            "Test Accuracy: 0.9608615707906488\n"
          ]
        }
      ]
    },
    {
      "cell_type": "code",
      "source": [
        "accuracy = train.history['accuracy']\n",
        "val_accuracy = train.history['val_accuracy']\n",
        "epochs = range(len(accuracy))\n",
        "plt.plot(epochs, accuracy, 'b', label='Training Accuracy')\n",
        "plt.plot(epochs, val_accuracy, 'r', label='Validation Accuracy')\n",
        "plt.title('Model Accuracy')\n",
        "plt.legend()\n",
        "plt.show()"
      ],
      "metadata": {
        "id": "e1hopOEbr9c2"
      },
      "execution_count": null,
      "outputs": []
    },
    {
      "cell_type": "code",
      "source": [
        "train_loss = train.history['loss']\n",
        "val_loss = train.history['val_loss']\n",
        "epochs = range(len(train_loss))\n",
        "plt.plot(epochs, train_loss, 'b', label='Training Loss')\n",
        "plt.plot(epochs, val_loss, 'r', label='Validation Loss')\n",
        "plt.title('Model Loss')\n",
        "plt.legend()\n",
        "plt.show()"
      ],
      "metadata": {
        "id": "tPUzuo_Sr-3j"
      },
      "execution_count": null,
      "outputs": []
    },
    {
      "cell_type": "code",
      "source": [
        "model_json = model.to_json()\n",
        "with open(f\"/content/gdrive/MyDrive/AI Draw Equation/Model/MobileNet lr={lr}.json\", \"w\") as json_file:\n",
        "    json_file.write(model_json)\n",
        "model.save_weights(f\"/content/gdrive/MyDrive/AI Draw Equation/Model/MobileNet lr={lr}.h5\")"
      ],
      "metadata": {
        "id": "d5e5sfpasAL0"
      },
      "execution_count": null,
      "outputs": []
    }
  ]
}

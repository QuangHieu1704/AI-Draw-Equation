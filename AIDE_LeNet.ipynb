{
  "nbformat": 4,
  "nbformat_minor": 0,
  "metadata": {
    "colab": {
      "name": "AIDE_LeNet.ipynb",
      "provenance": [],
      "collapsed_sections": []
    },
    "kernelspec": {
      "name": "python3",
      "display_name": "Python 3"
    },
    "language_info": {
      "name": "python"
    },
    "accelerator": "GPU",
    "gpuClass": "standard"
  },
  "cells": [
    {
      "cell_type": "code",
      "execution_count": 1,
      "metadata": {
        "colab": {
          "base_uri": "https://localhost:8080/"
        },
        "id": "8hm9PghE0bCR",
        "outputId": "57ebf51b-ecd0-402b-e69d-5b6f246797d8"
      },
      "outputs": [
        {
          "output_type": "stream",
          "name": "stderr",
          "text": [
            "/usr/local/lib/python3.7/dist-packages/ipykernel_launcher.py:3: TqdmExperimentalWarning: Using `tqdm.autonotebook.tqdm` in notebook mode. Use `tqdm.tqdm` instead to force console mode (e.g. in jupyter console)\n",
            "  This is separate from the ipykernel package so we can avoid doing imports until\n"
          ]
        }
      ],
      "source": [
        "import sklearn\n",
        "import os\n",
        "from tqdm.autonotebook import tqdm\n",
        "import numpy as np\n",
        "from PIL import Image\n",
        "import pandas as pd\n",
        "from google.colab.patches import cv2_imshow\n",
        "import cv2\n",
        "import matplotlib.pyplot as plt\n",
        "import tensorflow as tf\n",
        "from tensorflow import keras\n",
        "from tensorflow.keras import layers\n",
        "from keras.models import Sequential, load_model, Model \n",
        "from keras.layers import Conv2D, MaxPool2D, Add, Dense, Reshape, Flatten, Dropout, BatchNormalization, ReLU, Activation, Concatenate, Flatten, Input, Concatenate, Activation, LSTM, Bidirectional, Lambda\n",
        "from keras import Input\n",
        "from keras import backend\n",
        "from sklearn.model_selection import train_test_split\n",
        "from keras.utils import np_utils\n",
        "from tensorflow.keras.utils import to_categorical"
      ]
    },
    {
      "cell_type": "code",
      "source": [
        "from google.colab import drive\n",
        "drive.mount('/content/gdrive')"
      ],
      "metadata": {
        "colab": {
          "base_uri": "https://localhost:8080/"
        },
        "id": "FbQVNaLX09vB",
        "outputId": "1a7c09b4-a838-40cf-b892-b2165f1a541e"
      },
      "execution_count": 2,
      "outputs": [
        {
          "output_type": "stream",
          "name": "stdout",
          "text": [
            "Drive already mounted at /content/gdrive; to attempt to forcibly remount, call drive.mount(\"/content/gdrive\", force_remount=True).\n"
          ]
        }
      ]
    },
    {
      "cell_type": "code",
      "source": [
        "# check GPU\n",
        "!nvidia-smi"
      ],
      "metadata": {
        "colab": {
          "base_uri": "https://localhost:8080/"
        },
        "id": "xor0kZ9V1Bd_",
        "outputId": "eb47ffd6-837f-4441-91a4-6980ae660bc1"
      },
      "execution_count": 3,
      "outputs": [
        {
          "output_type": "stream",
          "name": "stdout",
          "text": [
            "Sun Jul 31 17:00:10 2022       \n",
            "+-----------------------------------------------------------------------------+\n",
            "| NVIDIA-SMI 460.32.03    Driver Version: 460.32.03    CUDA Version: 11.2     |\n",
            "|-------------------------------+----------------------+----------------------+\n",
            "| GPU  Name        Persistence-M| Bus-Id        Disp.A | Volatile Uncorr. ECC |\n",
            "| Fan  Temp  Perf  Pwr:Usage/Cap|         Memory-Usage | GPU-Util  Compute M. |\n",
            "|                               |                      |               MIG M. |\n",
            "|===============================+======================+======================|\n",
            "|   0  Tesla T4            Off  | 00000000:00:04.0 Off |                    0 |\n",
            "| N/A   66C    P8    12W /  70W |      0MiB / 15109MiB |      0%      Default |\n",
            "|                               |                      |                  N/A |\n",
            "+-------------------------------+----------------------+----------------------+\n",
            "                                                                               \n",
            "+-----------------------------------------------------------------------------+\n",
            "| Processes:                                                                  |\n",
            "|  GPU   GI   CI        PID   Type   Process name                  GPU Memory |\n",
            "|        ID   ID                                                   Usage      |\n",
            "|=============================================================================|\n",
            "|  No running processes found                                                 |\n",
            "+-----------------------------------------------------------------------------+\n"
          ]
        }
      ]
    },
    {
      "cell_type": "code",
      "source": [
        "!unzip \"/content/gdrive/MyDrive/AI Draw Equation/AIDE dataset.zip\" -d \"/content\""
      ],
      "metadata": {
        "id": "951GVdQt1cDa"
      },
      "execution_count": null,
      "outputs": []
    },
    {
      "cell_type": "code",
      "source": [
        "# Load train and val dataset\n",
        "list_categories = [\"0\", \"1\", \"2\", \"3\", \"4\", \"5\", \"6\", \"7\", \"8\", \"9\", \"add\", \"dec\", \"div\", \"mul\", \"stroke\", \"sub\", \"(\", \")\"]\n",
        "train_path = \"/content/AIDE dataset/train\"\n",
        "X_train = []\n",
        "Y_train = []\n",
        "for label_folder in os.listdir(train_path):\n",
        "  curr_path = os.path.join(train_path, label_folder)\n",
        "  lbl = list_categories.index(label_folder)\n",
        "  for img_name in os.listdir(curr_path):\n",
        "    img = cv2.imread(os.path.join(curr_path, img_name), cv2.IMREAD_GRAYSCALE)\n",
        "    img = cv2.resize(img, (28, 28))\n",
        "    X_train.append(img)\n",
        "    Y_train.append(int(lbl))\n",
        "X_train = np.array(X_train) / 255.0\n",
        "Y_train = np.array(Y_train)\n",
        "\n",
        "val_path = \"/content/AIDE dataset/val\"\n",
        "X_val = []\n",
        "Y_val = []\n",
        "for label_folder in os.listdir(val_path):\n",
        "  curr_path = os.path.join(val_path, label_folder)\n",
        "  lbl = list_categories.index(label_folder)\n",
        "  for img_name in os.listdir(curr_path):\n",
        "    img = cv2.imread(os.path.join(curr_path, img_name), cv2.IMREAD_GRAYSCALE)\n",
        "    img = cv2.resize(img, (28, 28))\n",
        "    X_val.append(img)\n",
        "    Y_val.append(int(lbl))\n",
        "X_val = np.array(X_val) / 255.0\n",
        "Y_val = np.array(Y_val)\n",
        "\n",
        "Y_train = to_categorical(Y_train)\n",
        "Y_val = to_categorical(Y_val)"
      ],
      "metadata": {
        "id": "4RcWFVgxDwMY"
      },
      "execution_count": 7,
      "outputs": []
    },
    {
      "cell_type": "code",
      "source": [
        "print(f\"Number of train samples: {X_train.shape[0]}\")\n",
        "print(f\"Number of val samples: {X_val.shape[0]}\")"
      ],
      "metadata": {
        "colab": {
          "base_uri": "https://localhost:8080/"
        },
        "id": "K2cUu-9eFCX7",
        "outputId": "249a810c-b6e2-4204-fdaf-d22e53f2ca68"
      },
      "execution_count": 8,
      "outputs": [
        {
          "output_type": "stream",
          "name": "stdout",
          "text": [
            "Number of train samples: 11394\n",
            "Number of val samples: 3806\n"
          ]
        }
      ]
    },
    {
      "cell_type": "code",
      "source": [
        "cv2_imshow(X_train[9] * 255)\n",
        "print(Y_train[9])"
      ],
      "metadata": {
        "colab": {
          "base_uri": "https://localhost:8080/",
          "height": 62
        },
        "id": "TQ-3pZ0SQEY3",
        "outputId": "1429cfe3-8a0c-4c3d-f375-bb821792f7e6"
      },
      "execution_count": 9,
      "outputs": [
        {
          "output_type": "display_data",
          "data": {
            "text/plain": [
              "<PIL.Image.Image image mode=L size=28x28 at 0x7FE3A1E393D0>"
            ],
            "image/png": "[encoded data removed]"
          },
          "metadata": {}
        },
        {
          "output_type": "stream",
          "name": "stdout",
          "text": [
            "[0. 0. 0. 0. 0. 0. 0. 0. 0. 0. 0. 0. 0. 0. 1. 0. 0. 0.]\n"
          ]
        }
      ]
    },
    {
      "cell_type": "code",
      "source": [
        "# Define model\n",
        "input_img = Input(shape=(28, 28 , 1), name=\"input\")\n",
        "x = Conv2D(filters = 6, kernel_size = (5, 5), strides = 1, padding = \"same\", activation = \"tanh\")(input_img)\n",
        "x = MaxPool2D(pool_size=(2,2), strides=(2,2))(x)\n",
        "x = Conv2D(filters = 16, kernel_size = (5, 5), strides = 1, padding = \"same\", activation = \"tanh\")(x)\n",
        "x = MaxPool2D(pool_size=(2,2), strides=(2,2))(x)\n",
        "x = Flatten()(x)\n",
        "x = Dense(120, activation='relu')(x)\n",
        "x = Dense(84, activation='relu')(x)\n",
        "output = Dense(18, activation='softmax')(x)\n",
        "model = Model(inputs = input_img, outputs = output)\n",
        "model.summary()"
      ],
      "metadata": {
        "id": "nI8AsTim_p4Z",
        "colab": {
          "base_uri": "https://localhost:8080/"
        },
        "outputId": "01a30f76-094e-4113-b6c7-f16c8747201f"
      },
      "execution_count": 10,
      "outputs": [
        {
          "output_type": "stream",
          "name": "stdout",
          "text": [
            "Model: \"model\"\n",
            "_________________________________________________________________\n",
            " Layer (type)                Output Shape              Param #   \n",
            "=================================================================\n",
            " input (InputLayer)          [(None, 28, 28, 1)]       0         \n",
            "                                                                 \n",
            " conv2d (Conv2D)             (None, 28, 28, 6)         156       \n",
            "                                                                 \n",
            " max_pooling2d (MaxPooling2D  (None, 14, 14, 6)        0         \n",
            " )                                                               \n",
            "                                                                 \n",
            " conv2d_1 (Conv2D)           (None, 14, 14, 16)        2416      \n",
            "                                                                 \n",
            " max_pooling2d_1 (MaxPooling  (None, 7, 7, 16)         0         \n",
            " 2D)                                                             \n",
            "                                                                 \n",
            " flatten (Flatten)           (None, 784)               0         \n",
            "                                                                 \n",
            " dense (Dense)               (None, 120)               94200     \n",
            "                                                                 \n",
            " dense_1 (Dense)             (None, 84)                10164     \n",
            "                                                                 \n",
            " dense_2 (Dense)             (None, 18)                1530      \n",
            "                                                                 \n",
            "=================================================================\n",
            "Total params: 108,466\n",
            "Trainable params: 108,466\n",
            "Non-trainable params: 0\n",
            "_________________________________________________________________\n"
          ]
        }
      ]
    },
    {
      "cell_type": "code",
      "source": [
        "lr = 0.001\n",
        "opt = keras.optimizers.Adam(learning_rate = lr)\n",
        "model.compile(loss='categorical_crossentropy', optimizer = opt, metrics = ['accuracy'])\n",
        "train = model.fit(X_train, Y_train, validation_data = (X_val, Y_val), epochs = 50, batch_size = 32, verbose = 1)  "
      ],
      "metadata": {
        "colab": {
          "base_uri": "https://localhost:8080/"
        },
        "id": "iD1t8SFCLpRT",
        "outputId": "756bafab-4236-42d4-9b25-cc0d456f85f0"
      },
      "execution_count": 11,
      "outputs": [
        {
          "output_type": "stream",
          "name": "stdout",
          "text": [
            "Epoch 1/50\n",
            "357/357 [==============================] - 5s 5ms/step - loss: 1.5371 - accuracy: 0.5398 - val_loss: 0.9191 - val_accuracy: 0.7063\n",
            "Epoch 2/50\n",
            "357/357 [==============================] - 2s 5ms/step - loss: 0.7086 - accuracy: 0.7728 - val_loss: 0.5297 - val_accuracy: 0.8452\n",
            "Epoch 3/50\n",
            "357/357 [==============================] - 3s 7ms/step - loss: 0.4476 - accuracy: 0.8617 - val_loss: 0.4060 - val_accuracy: 0.8783\n",
            "Epoch 4/50\n",
            "357/357 [==============================] - 2s 4ms/step - loss: 0.3221 - accuracy: 0.9023 - val_loss: 0.3120 - val_accuracy: 0.9073\n",
            "Epoch 5/50\n",
            "357/357 [==============================] - 2s 4ms/step - loss: 0.2496 - accuracy: 0.9235 - val_loss: 0.2817 - val_accuracy: 0.9138\n",
            "Epoch 6/50\n",
            "357/357 [==============================] - 2s 4ms/step - loss: 0.2082 - accuracy: 0.9375 - val_loss: 0.2438 - val_accuracy: 0.9291\n",
            "Epoch 7/50\n",
            "357/357 [==============================] - 2s 5ms/step - loss: 0.1643 - accuracy: 0.9492 - val_loss: 0.2218 - val_accuracy: 0.9354\n",
            "Epoch 8/50\n",
            "357/357 [==============================] - 2s 4ms/step - loss: 0.1377 - accuracy: 0.9600 - val_loss: 0.2000 - val_accuracy: 0.9427\n",
            "Epoch 9/50\n",
            "357/357 [==============================] - 2s 4ms/step - loss: 0.1190 - accuracy: 0.9645 - val_loss: 0.1925 - val_accuracy: 0.9432\n",
            "Epoch 10/50\n",
            "357/357 [==============================] - 2s 5ms/step - loss: 0.1024 - accuracy: 0.9715 - val_loss: 0.1920 - val_accuracy: 0.9430\n",
            "Epoch 11/50\n",
            "357/357 [==============================] - 2s 4ms/step - loss: 0.0824 - accuracy: 0.9767 - val_loss: 0.1684 - val_accuracy: 0.9524\n",
            "Epoch 12/50\n",
            "357/357 [==============================] - 2s 4ms/step - loss: 0.0671 - accuracy: 0.9834 - val_loss: 0.1755 - val_accuracy: 0.9540\n",
            "Epoch 13/50\n",
            "357/357 [==============================] - 2s 4ms/step - loss: 0.0587 - accuracy: 0.9851 - val_loss: 0.1679 - val_accuracy: 0.9503\n",
            "Epoch 14/50\n",
            "357/357 [==============================] - 2s 4ms/step - loss: 0.0487 - accuracy: 0.9875 - val_loss: 0.1807 - val_accuracy: 0.9519\n",
            "Epoch 15/50\n",
            "357/357 [==============================] - 2s 5ms/step - loss: 0.0379 - accuracy: 0.9911 - val_loss: 0.1713 - val_accuracy: 0.9564\n",
            "Epoch 16/50\n",
            "357/357 [==============================] - 2s 5ms/step - loss: 0.0425 - accuracy: 0.9881 - val_loss: 0.1604 - val_accuracy: 0.9545\n",
            "Epoch 17/50\n",
            "357/357 [==============================] - 2s 5ms/step - loss: 0.0352 - accuracy: 0.9910 - val_loss: 0.1849 - val_accuracy: 0.9553\n",
            "Epoch 18/50\n",
            "357/357 [==============================] - 2s 6ms/step - loss: 0.0278 - accuracy: 0.9932 - val_loss: 0.1692 - val_accuracy: 0.9569\n",
            "Epoch 19/50\n",
            "357/357 [==============================] - 2s 5ms/step - loss: 0.0317 - accuracy: 0.9915 - val_loss: 0.1904 - val_accuracy: 0.9501\n",
            "Epoch 20/50\n",
            "357/357 [==============================] - 2s 5ms/step - loss: 0.0241 - accuracy: 0.9940 - val_loss: 0.2091 - val_accuracy: 0.9435\n",
            "Epoch 21/50\n",
            "357/357 [==============================] - 2s 4ms/step - loss: 0.0219 - accuracy: 0.9941 - val_loss: 0.1725 - val_accuracy: 0.9569\n",
            "Epoch 22/50\n",
            "357/357 [==============================] - 3s 8ms/step - loss: 0.0181 - accuracy: 0.9953 - val_loss: 0.2244 - val_accuracy: 0.9438\n",
            "Epoch 23/50\n",
            "357/357 [==============================] - 2s 5ms/step - loss: 0.0217 - accuracy: 0.9933 - val_loss: 0.2090 - val_accuracy: 0.9506\n",
            "Epoch 24/50\n",
            "357/357 [==============================] - 2s 5ms/step - loss: 0.0240 - accuracy: 0.9936 - val_loss: 0.1728 - val_accuracy: 0.9593\n",
            "Epoch 25/50\n",
            "357/357 [==============================] - 2s 5ms/step - loss: 0.0083 - accuracy: 0.9982 - val_loss: 0.1663 - val_accuracy: 0.9606\n",
            "Epoch 26/50\n",
            "357/357 [==============================] - 2s 4ms/step - loss: 0.0055 - accuracy: 0.9994 - val_loss: 0.1711 - val_accuracy: 0.9601\n",
            "Epoch 27/50\n",
            "357/357 [==============================] - 3s 8ms/step - loss: 0.0074 - accuracy: 0.9987 - val_loss: 0.1707 - val_accuracy: 0.9587\n",
            "Epoch 28/50\n",
            "357/357 [==============================] - 2s 4ms/step - loss: 0.0195 - accuracy: 0.9947 - val_loss: 0.2447 - val_accuracy: 0.9435\n",
            "Epoch 29/50\n",
            "357/357 [==============================] - 2s 4ms/step - loss: 0.0372 - accuracy: 0.9886 - val_loss: 0.1992 - val_accuracy: 0.9566\n",
            "Epoch 30/50\n",
            "357/357 [==============================] - 2s 5ms/step - loss: 0.0085 - accuracy: 0.9985 - val_loss: 0.1903 - val_accuracy: 0.9595\n",
            "Epoch 31/50\n",
            "357/357 [==============================] - 2s 4ms/step - loss: 0.0034 - accuracy: 0.9996 - val_loss: 0.1833 - val_accuracy: 0.9611\n",
            "Epoch 32/50\n",
            "357/357 [==============================] - 2s 4ms/step - loss: 0.0014 - accuracy: 1.0000 - val_loss: 0.1838 - val_accuracy: 0.9627\n",
            "Epoch 33/50\n",
            "357/357 [==============================] - 2s 5ms/step - loss: 0.0017 - accuracy: 0.9998 - val_loss: 0.1843 - val_accuracy: 0.9590\n",
            "Epoch 34/50\n",
            "357/357 [==============================] - 2s 5ms/step - loss: 0.0144 - accuracy: 0.9966 - val_loss: 0.3216 - val_accuracy: 0.9330\n",
            "Epoch 35/50\n",
            "357/357 [==============================] - 2s 5ms/step - loss: 0.0541 - accuracy: 0.9820 - val_loss: 0.1994 - val_accuracy: 0.9580\n",
            "Epoch 36/50\n",
            "357/357 [==============================] - 2s 5ms/step - loss: 0.0048 - accuracy: 0.9992 - val_loss: 0.1910 - val_accuracy: 0.9624\n",
            "Epoch 37/50\n",
            "357/357 [==============================] - 2s 4ms/step - loss: 0.0021 - accuracy: 0.9996 - val_loss: 0.1884 - val_accuracy: 0.9616\n",
            "Epoch 38/50\n",
            "357/357 [==============================] - 2s 5ms/step - loss: 9.6839e-04 - accuracy: 1.0000 - val_loss: 0.1914 - val_accuracy: 0.9609\n",
            "Epoch 39/50\n",
            "357/357 [==============================] - 2s 4ms/step - loss: 7.5888e-04 - accuracy: 1.0000 - val_loss: 0.1921 - val_accuracy: 0.9632\n",
            "Epoch 40/50\n",
            "357/357 [==============================] - 2s 7ms/step - loss: 6.2070e-04 - accuracy: 1.0000 - val_loss: 0.1980 - val_accuracy: 0.9640\n",
            "Epoch 41/50\n",
            "357/357 [==============================] - 2s 6ms/step - loss: 5.4027e-04 - accuracy: 1.0000 - val_loss: 0.1965 - val_accuracy: 0.9627\n",
            "Epoch 42/50\n",
            "357/357 [==============================] - 3s 7ms/step - loss: 0.0160 - accuracy: 0.9954 - val_loss: 0.3444 - val_accuracy: 0.9262\n",
            "Epoch 43/50\n",
            "357/357 [==============================] - 2s 4ms/step - loss: 0.0731 - accuracy: 0.9788 - val_loss: 0.1995 - val_accuracy: 0.9585\n",
            "Epoch 44/50\n",
            "357/357 [==============================] - 2s 6ms/step - loss: 0.0048 - accuracy: 0.9989 - val_loss: 0.1959 - val_accuracy: 0.9614\n",
            "Epoch 45/50\n",
            "357/357 [==============================] - 2s 5ms/step - loss: 0.0016 - accuracy: 1.0000 - val_loss: 0.1882 - val_accuracy: 0.9630\n",
            "Epoch 46/50\n",
            "357/357 [==============================] - 2s 4ms/step - loss: 0.0010 - accuracy: 0.9999 - val_loss: 0.1877 - val_accuracy: 0.9627\n",
            "Epoch 47/50\n",
            "357/357 [==============================] - 2s 4ms/step - loss: 9.3466e-04 - accuracy: 0.9999 - val_loss: 0.1926 - val_accuracy: 0.9637\n",
            "Epoch 48/50\n",
            "357/357 [==============================] - 2s 5ms/step - loss: 8.7462e-04 - accuracy: 1.0000 - val_loss: 0.1904 - val_accuracy: 0.9645\n",
            "Epoch 49/50\n",
            "357/357 [==============================] - 2s 4ms/step - loss: 4.3110e-04 - accuracy: 1.0000 - val_loss: 0.1934 - val_accuracy: 0.9645\n",
            "Epoch 50/50\n",
            "357/357 [==============================] - 2s 5ms/step - loss: 3.8503e-04 - accuracy: 1.0000 - val_loss: 0.1928 - val_accuracy: 0.9651\n"
          ]
        }
      ]
    },
    {
      "cell_type": "code",
      "source": [
        "# Load test \n",
        "test_path = \"/content/AIDE dataset/test\"\n",
        "X_test = []\n",
        "Y_test = []\n",
        "for label_folder in os.listdir(test_path):\n",
        "  curr_path = os.path.join(test_path, label_folder)\n",
        "  lbl = list_categories.index(label_folder)\n",
        "  for img_name in os.listdir(curr_path):\n",
        "    img = cv2.imread(os.path.join(curr_path, img_name), cv2.IMREAD_GRAYSCALE)\n",
        "    img = cv2.resize(img, (28, 28))\n",
        "    X_test.append(img)\n",
        "    Y_test.append(int(lbl))\n",
        "X_test = np.array(X_test) / 255.0\n",
        "Y_test = np.array(Y_test)\n",
        "\n",
        "Y_test = to_categorical(Y_test)"
      ],
      "metadata": {
        "id": "Xrl-SpBrFtGo"
      },
      "execution_count": 19,
      "outputs": []
    },
    {
      "cell_type": "code",
      "source": [
        "print(X_test.shape)\n",
        "print(Y_test.shape)"
      ],
      "metadata": {
        "colab": {
          "base_uri": "https://localhost:8080/"
        },
        "id": "epxaaJq3Rwv0",
        "outputId": "d3fb82c1-3de6-4641-dff7-e8d961365917"
      },
      "execution_count": 20,
      "outputs": [
        {
          "output_type": "stream",
          "name": "stdout",
          "text": [
            "(3807, 28, 28)\n",
            "(3807, 18)\n"
          ]
        }
      ]
    },
    {
      "cell_type": "code",
      "source": [
        "test_loss, test_accuracy = model.evaluate(X_test, Y_test, verbose=0)\n",
        "print(\"Loss = \", test_loss)\n",
        "print(\"Evaluation Accuracy = \", test_accuracy * 100)"
      ],
      "metadata": {
        "colab": {
          "base_uri": "https://localhost:8080/"
        },
        "id": "fxzz5DPqPqsl",
        "outputId": "99e8bfaf-1072-4de9-eea0-257d1072d902"
      },
      "execution_count": 21,
      "outputs": [
        {
          "output_type": "stream",
          "name": "stdout",
          "text": [
            "Loss =  0.23490725457668304\n",
            "Accuracy =  96.27003073692322\n"
          ]
        }
      ]
    },
    {
      "cell_type": "code",
      "source": [
        "count = 0\n",
        "for i in range(X_test.shape[0]):\n",
        "  pred = model.predict(X_test[i].reshape(1, 28, 28, 1))\n",
        "  pred = list_categories[np.argmax(pred)]\n",
        "  true = list_categories[np.argmax(Y_test[i])]\n",
        "  if pred == true:\n",
        "    count += 1\n",
        "print(f\"Test Accuracy: {count / X_test.shape[0]}\")"
      ],
      "metadata": {
        "colab": {
          "base_uri": "https://localhost:8080/"
        },
        "id": "_16xFwkJOcO3",
        "outputId": "1fb6b7a9-7822-418f-f3de-832b513d8a96"
      },
      "execution_count": 25,
      "outputs": [
        {
          "output_type": "stream",
          "name": "stdout",
          "text": [
            "Test Accuracy: 0.9627002889414237\n"
          ]
        }
      ]
    },
    {
      "cell_type": "code",
      "source": [
        "accuracy = train.history['accuracy']\n",
        "val_accuracy = train.history['val_accuracy']\n",
        "epochs = range(len(accuracy))\n",
        "plt.plot(epochs, accuracy, 'b', label='Training Accuracy')\n",
        "plt.plot(epochs, val_accuracy, 'r', label='Validation Accuracy')\n",
        "plt.title('Model Accuracy')\n",
        "plt.legend()\n",
        "plt.show()"
      ],
      "metadata": {
        "colab": {
          "base_uri": "https://localhost:8080/",
          "height": 281
        },
        "id": "n1Uhe8wbPvaX",
        "outputId": "e75a8166-f9e6-41dd-9067-4fe9e4628923"
      },
      "execution_count": null,
      "outputs": [
        {
          "output_type": "display_data",
          "data": {
            "text/plain": [
              "<Figure size 432x288 with 1 Axes>"
            ],
            "image/png": "[encoded data removed]"
          },
          "metadata": {
            "needs_background": "light"
          }
        }
      ]
    },
    {
      "cell_type": "code",
      "source": [
        "train_loss = train.history['loss']\n",
        "val_loss = train.history['val_loss']\n",
        "epochs = range(len(train_loss))\n",
        "plt.plot(epochs, train_loss, 'b', label='Training Loss')\n",
        "plt.plot(epochs, val_loss, 'r', label='Validation Loss')\n",
        "plt.title('Model Loss')\n",
        "plt.legend()\n",
        "plt.show()"
      ],
      "metadata": {
        "colab": {
          "base_uri": "https://localhost:8080/",
          "height": 281
        },
        "id": "CqrnSY-zP26T",
        "outputId": "21d30373-7097-4aae-fa0d-1b4b82af7944"
      },
      "execution_count": null,
      "outputs": [
        {
          "output_type": "display_data",
          "data": {
            "text/plain": [
              "<Figure size 432x288 with 1 Axes>"
            ],
            "image/png": "[encoded data removed]"
          },
          "metadata": {
            "needs_background": "light"
          }
        }
      ]
    },
    {
      "cell_type": "code",
      "source": [
        "model_json = model.to_json()\n",
        "with open(f\"/content/gdrive/MyDrive/AI Draw Equation/Model/Lenet lr={lr}.json\", \"w\") as json_file:\n",
        "    json_file.write(model_json)\n",
        "model.save_weights(f\"/content/gdrive/MyDrive/AI Draw Equation/Model/Lenet lr={lr}.h5\")"
      ],
      "metadata": {
        "id": "aX7xPvL4P_aR"
      },
      "execution_count": null,
      "outputs": []
    }
  ]
}